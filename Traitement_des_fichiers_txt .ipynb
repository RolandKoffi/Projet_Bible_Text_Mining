{
 "cells": [
  {
   "cell_type": "code",
   "execution_count": 1,
   "id": "6df43db8",
   "metadata": {
    "ExecuteTime": {
     "end_time": "2023-02-13T19:37:35.118407Z",
     "start_time": "2023-02-13T19:37:34.717280Z"
    }
   },
   "outputs": [],
   "source": [
    "import os \n",
    "import pandas as pd"
   ]
  },
  {
   "cell_type": "code",
   "execution_count": null,
   "id": "26d77c45",
   "metadata": {},
   "outputs": [],
   "source": []
  },
  {
   "cell_type": "code",
   "execution_count": 20,
   "id": "6c587660",
   "metadata": {
    "ExecuteTime": {
     "end_time": "2023-02-13T19:40:00.291805Z",
     "start_time": "2023-02-13T19:40:00.031165Z"
    }
   },
   "outputs": [],
   "source": [
    "bible = pd.read_fwf('fichiers_bibles/bible_french_louis_segond.txt', header=None, cols=['Texte'])"
   ]
  },
  {
   "cell_type": "code",
   "execution_count": 21,
   "id": "2a84acf7",
   "metadata": {
    "ExecuteTime": {
     "end_time": "2023-02-13T19:40:01.066927Z",
     "start_time": "2023-02-13T19:40:01.012646Z"
    }
   },
   "outputs": [
    {
     "data": {
      "text/html": [
       "<div>\n",
       "<style scoped>\n",
       "    .dataframe tbody tr th:only-of-type {\n",
       "        vertical-align: middle;\n",
       "    }\n",
       "\n",
       "    .dataframe tbody tr th {\n",
       "        vertical-align: top;\n",
       "    }\n",
       "\n",
       "    .dataframe thead th {\n",
       "        text-align: right;\n",
       "    }\n",
       "</style>\n",
       "<table border=\"1\" class=\"dataframe\">\n",
       "  <thead>\n",
       "    <tr style=\"text-align: right;\">\n",
       "      <th></th>\n",
       "      <th>0</th>\n",
       "      <th>1</th>\n",
       "      <th>2</th>\n",
       "      <th>3</th>\n",
       "      <th>4</th>\n",
       "      <th>5</th>\n",
       "      <th>6</th>\n",
       "      <th>7</th>\n",
       "      <th>8</th>\n",
       "    </tr>\n",
       "  </thead>\n",
       "  <tbody>\n",
       "    <tr>\n",
       "      <th>0</th>\n",
       "      <td>01O||1||1||Au commencement, Dieu créa les cieu...</td>\n",
       "      <td>NaN</td>\n",
       "      <td>NaN</td>\n",
       "      <td>NaN</td>\n",
       "      <td>NaN</td>\n",
       "      <td>NaN</td>\n",
       "      <td>NaN</td>\n",
       "      <td>NaN</td>\n",
       "      <td>NaN</td>\n",
       "    </tr>\n",
       "    <tr>\n",
       "      <th>1</th>\n",
       "      <td>01O||1||2||La terre était informe et vide: il ...</td>\n",
       "      <td>NaN</td>\n",
       "      <td>NaN</td>\n",
       "      <td>NaN</td>\n",
       "      <td>NaN</td>\n",
       "      <td>NaN</td>\n",
       "      <td>NaN</td>\n",
       "      <td>NaN</td>\n",
       "      <td>NaN</td>\n",
       "    </tr>\n",
       "    <tr>\n",
       "      <th>2</th>\n",
       "      <td>01O||1||3||Dieu dit: Que la lumière soit! Et l...</td>\n",
       "      <td>NaN</td>\n",
       "      <td>NaN</td>\n",
       "      <td>NaN</td>\n",
       "      <td>NaN</td>\n",
       "      <td>NaN</td>\n",
       "      <td>NaN</td>\n",
       "      <td>NaN</td>\n",
       "      <td>NaN</td>\n",
       "    </tr>\n",
       "    <tr>\n",
       "      <th>3</th>\n",
       "      <td>01O||1||4||Dieu vit que la lumière était bonne...</td>\n",
       "      <td>NaN</td>\n",
       "      <td>NaN</td>\n",
       "      <td>NaN</td>\n",
       "      <td>NaN</td>\n",
       "      <td>NaN</td>\n",
       "      <td>NaN</td>\n",
       "      <td>NaN</td>\n",
       "      <td>NaN</td>\n",
       "    </tr>\n",
       "    <tr>\n",
       "      <th>4</th>\n",
       "      <td>01O||1||5||Dieu appela la lumière jour, et il ...</td>\n",
       "      <td>NaN</td>\n",
       "      <td>NaN</td>\n",
       "      <td>NaN</td>\n",
       "      <td>NaN</td>\n",
       "      <td>NaN</td>\n",
       "      <td>NaN</td>\n",
       "      <td>NaN</td>\n",
       "      <td>NaN</td>\n",
       "    </tr>\n",
       "  </tbody>\n",
       "</table>\n",
       "</div>"
      ],
      "text/plain": [
       "                                                   0    1    2    3    4    5  \\\n",
       "0  01O||1||1||Au commencement, Dieu créa les cieu...  NaN  NaN  NaN  NaN  NaN   \n",
       "1  01O||1||2||La terre était informe et vide: il ...  NaN  NaN  NaN  NaN  NaN   \n",
       "2  01O||1||3||Dieu dit: Que la lumière soit! Et l...  NaN  NaN  NaN  NaN  NaN   \n",
       "3  01O||1||4||Dieu vit que la lumière était bonne...  NaN  NaN  NaN  NaN  NaN   \n",
       "4  01O||1||5||Dieu appela la lumière jour, et il ...  NaN  NaN  NaN  NaN  NaN   \n",
       "\n",
       "     6    7    8  \n",
       "0  NaN  NaN  NaN  \n",
       "1  NaN  NaN  NaN  \n",
       "2  NaN  NaN  NaN  \n",
       "3  NaN  NaN  NaN  \n",
       "4  NaN  NaN  NaN  "
      ]
     },
     "execution_count": 21,
     "metadata": {},
     "output_type": "execute_result"
    }
   ],
   "source": [
    "bible.head()"
   ]
  },
  {
   "cell_type": "code",
   "execution_count": 22,
   "id": "85fde112",
   "metadata": {
    "ExecuteTime": {
     "end_time": "2023-02-13T19:40:01.850655Z",
     "start_time": "2023-02-13T19:40:01.840882Z"
    }
   },
   "outputs": [],
   "source": [
    "bible = bible.iloc[:,0]"
   ]
  },
  {
   "cell_type": "code",
   "execution_count": 23,
   "id": "e6d23d01",
   "metadata": {
    "ExecuteTime": {
     "end_time": "2023-02-13T19:40:02.572940Z",
     "start_time": "2023-02-13T19:40:02.563336Z"
    }
   },
   "outputs": [
    {
     "data": {
      "text/plain": [
       "0    01O||1||1||Au commencement, Dieu créa les cieu...\n",
       "1    01O||1||2||La terre était informe et vide: il ...\n",
       "2    01O||1||3||Dieu dit: Que la lumière soit! Et l...\n",
       "3    01O||1||4||Dieu vit que la lumière était bonne...\n",
       "4    01O||1||5||Dieu appela la lumière jour, et il ...\n",
       "Name: 0, dtype: object"
      ]
     },
     "execution_count": 23,
     "metadata": {},
     "output_type": "execute_result"
    }
   ],
   "source": [
    "bible.head()"
   ]
  },
  {
   "cell_type": "code",
   "execution_count": 24,
   "id": "68d6a77f",
   "metadata": {
    "ExecuteTime": {
     "end_time": "2023-02-13T19:40:04.593601Z",
     "start_time": "2023-02-13T19:40:04.581703Z"
    }
   },
   "outputs": [
    {
     "data": {
      "text/plain": [
       "(31102,)"
      ]
     },
     "execution_count": 24,
     "metadata": {},
     "output_type": "execute_result"
    }
   ],
   "source": [
    "bible.shape"
   ]
  },
  {
   "cell_type": "code",
   "execution_count": 25,
   "id": "3b7a7be7",
   "metadata": {
    "ExecuteTime": {
     "end_time": "2023-02-13T19:40:06.194730Z",
     "start_time": "2023-02-13T19:40:05.397873Z"
    }
   },
   "outputs": [],
   "source": [
    "livres = []\n",
    "chapitres = []\n",
    "versets = []\n",
    "textes = []\n",
    "\n",
    "for i in range(len(bible)):\n",
    "    livres.append(int(bible.iloc[i].split('||')[0][:-1]))\n",
    "    chapitres.append(int(bible.iloc[i].split('||')[1]))\n",
    "    versets.append(int(bible.iloc[i].split('||')[2]))\n",
    "    textes.append(bible.iloc[i].split('||')[3])"
   ]
  },
  {
   "cell_type": "code",
   "execution_count": 28,
   "id": "8e11ce43",
   "metadata": {
    "ExecuteTime": {
     "end_time": "2023-02-13T19:40:14.178170Z",
     "start_time": "2023-02-13T19:40:14.166352Z"
    }
   },
   "outputs": [
    {
     "data": {
      "text/plain": [
       "(31102, 31102, 31102, 31102)"
      ]
     },
     "execution_count": 28,
     "metadata": {},
     "output_type": "execute_result"
    }
   ],
   "source": [
    "len(livres), len(chapitres), len(versets), len(textes)"
   ]
  },
  {
   "cell_type": "code",
   "execution_count": 39,
   "id": "7260653d",
   "metadata": {
    "ExecuteTime": {
     "end_time": "2023-02-13T19:42:34.396236Z",
     "start_time": "2023-02-13T19:42:34.352480Z"
    }
   },
   "outputs": [],
   "source": [
    "new_bible = pd.DataFrame({'livres':livres, 'chapitres':chapitres, 'versets':versets, 'textes':textes})"
   ]
  },
  {
   "cell_type": "code",
   "execution_count": 40,
   "id": "d80dcdd8",
   "metadata": {
    "ExecuteTime": {
     "end_time": "2023-02-13T19:42:35.735980Z",
     "start_time": "2023-02-13T19:42:35.697287Z"
    }
   },
   "outputs": [
    {
     "data": {
      "text/html": [
       "<div>\n",
       "<style scoped>\n",
       "    .dataframe tbody tr th:only-of-type {\n",
       "        vertical-align: middle;\n",
       "    }\n",
       "\n",
       "    .dataframe tbody tr th {\n",
       "        vertical-align: top;\n",
       "    }\n",
       "\n",
       "    .dataframe thead th {\n",
       "        text-align: right;\n",
       "    }\n",
       "</style>\n",
       "<table border=\"1\" class=\"dataframe\">\n",
       "  <thead>\n",
       "    <tr style=\"text-align: right;\">\n",
       "      <th></th>\n",
       "      <th>livres</th>\n",
       "      <th>chapitres</th>\n",
       "      <th>versets</th>\n",
       "      <th>textes</th>\n",
       "    </tr>\n",
       "  </thead>\n",
       "  <tbody>\n",
       "    <tr>\n",
       "      <th>0</th>\n",
       "      <td>1</td>\n",
       "      <td>1</td>\n",
       "      <td>1</td>\n",
       "      <td>Au commencement, Dieu créa les cieux et la terre.</td>\n",
       "    </tr>\n",
       "    <tr>\n",
       "      <th>1</th>\n",
       "      <td>1</td>\n",
       "      <td>1</td>\n",
       "      <td>2</td>\n",
       "      <td>La terre était informe et vide: il y avait des...</td>\n",
       "    </tr>\n",
       "    <tr>\n",
       "      <th>2</th>\n",
       "      <td>1</td>\n",
       "      <td>1</td>\n",
       "      <td>3</td>\n",
       "      <td>Dieu dit: Que la lumière soit! Et la lumière fut.</td>\n",
       "    </tr>\n",
       "    <tr>\n",
       "      <th>3</th>\n",
       "      <td>1</td>\n",
       "      <td>1</td>\n",
       "      <td>4</td>\n",
       "      <td>Dieu vit que la lumière était bonne; et Dieu s...</td>\n",
       "    </tr>\n",
       "    <tr>\n",
       "      <th>4</th>\n",
       "      <td>1</td>\n",
       "      <td>1</td>\n",
       "      <td>5</td>\n",
       "      <td>Dieu appela la lumière jour, et il appela les ...</td>\n",
       "    </tr>\n",
       "  </tbody>\n",
       "</table>\n",
       "</div>"
      ],
      "text/plain": [
       "   livres  chapitres  versets  \\\n",
       "0       1          1        1   \n",
       "1       1          1        2   \n",
       "2       1          1        3   \n",
       "3       1          1        4   \n",
       "4       1          1        5   \n",
       "\n",
       "                                              textes  \n",
       "0  Au commencement, Dieu créa les cieux et la terre.  \n",
       "1  La terre était informe et vide: il y avait des...  \n",
       "2  Dieu dit: Que la lumière soit! Et la lumière fut.  \n",
       "3  Dieu vit que la lumière était bonne; et Dieu s...  \n",
       "4  Dieu appela la lumière jour, et il appela les ...  "
      ]
     },
     "execution_count": 40,
     "metadata": {},
     "output_type": "execute_result"
    }
   ],
   "source": [
    "new_bible.head()"
   ]
  },
  {
   "cell_type": "code",
   "execution_count": 41,
   "id": "e16dfd0c",
   "metadata": {
    "ExecuteTime": {
     "end_time": "2023-02-13T19:42:38.835290Z",
     "start_time": "2023-02-13T19:42:38.806824Z"
    }
   },
   "outputs": [
    {
     "data": {
      "text/html": [
       "<div>\n",
       "<style scoped>\n",
       "    .dataframe tbody tr th:only-of-type {\n",
       "        vertical-align: middle;\n",
       "    }\n",
       "\n",
       "    .dataframe tbody tr th {\n",
       "        vertical-align: top;\n",
       "    }\n",
       "\n",
       "    .dataframe thead th {\n",
       "        text-align: right;\n",
       "    }\n",
       "</style>\n",
       "<table border=\"1\" class=\"dataframe\">\n",
       "  <thead>\n",
       "    <tr style=\"text-align: right;\">\n",
       "      <th></th>\n",
       "      <th>livres</th>\n",
       "      <th>chapitres</th>\n",
       "      <th>versets</th>\n",
       "      <th>textes</th>\n",
       "    </tr>\n",
       "  </thead>\n",
       "  <tbody>\n",
       "    <tr>\n",
       "      <th>31097</th>\n",
       "      <td>66</td>\n",
       "      <td>22</td>\n",
       "      <td>17</td>\n",
       "      <td>Et l'Esprit et l'épouse disent: Viens. Et que ...</td>\n",
       "    </tr>\n",
       "    <tr>\n",
       "      <th>31098</th>\n",
       "      <td>66</td>\n",
       "      <td>22</td>\n",
       "      <td>18</td>\n",
       "      <td>Je le déclare à quiconque entend les paroles d...</td>\n",
       "    </tr>\n",
       "    <tr>\n",
       "      <th>31099</th>\n",
       "      <td>66</td>\n",
       "      <td>22</td>\n",
       "      <td>19</td>\n",
       "      <td>et si quelqu'un retranche quelque chose des pa...</td>\n",
       "    </tr>\n",
       "    <tr>\n",
       "      <th>31100</th>\n",
       "      <td>66</td>\n",
       "      <td>22</td>\n",
       "      <td>20</td>\n",
       "      <td>Celui qui atteste ces choses dit: Oui, je vien...</td>\n",
       "    </tr>\n",
       "    <tr>\n",
       "      <th>31101</th>\n",
       "      <td>66</td>\n",
       "      <td>22</td>\n",
       "      <td>21</td>\n",
       "      <td>Que la grâce du Seigneur Jésus soit avec tous!</td>\n",
       "    </tr>\n",
       "  </tbody>\n",
       "</table>\n",
       "</div>"
      ],
      "text/plain": [
       "       livres  chapitres  versets  \\\n",
       "31097      66         22       17   \n",
       "31098      66         22       18   \n",
       "31099      66         22       19   \n",
       "31100      66         22       20   \n",
       "31101      66         22       21   \n",
       "\n",
       "                                                  textes  \n",
       "31097  Et l'Esprit et l'épouse disent: Viens. Et que ...  \n",
       "31098  Je le déclare à quiconque entend les paroles d...  \n",
       "31099  et si quelqu'un retranche quelque chose des pa...  \n",
       "31100  Celui qui atteste ces choses dit: Oui, je vien...  \n",
       "31101     Que la grâce du Seigneur Jésus soit avec tous!  "
      ]
     },
     "execution_count": 41,
     "metadata": {},
     "output_type": "execute_result"
    }
   ],
   "source": [
    "new_bible.tail()"
   ]
  },
  {
   "cell_type": "code",
   "execution_count": 42,
   "id": "ebc8776c",
   "metadata": {
    "ExecuteTime": {
     "end_time": "2023-02-13T19:42:40.649342Z",
     "start_time": "2023-02-13T19:42:40.624878Z"
    }
   },
   "outputs": [],
   "source": [
    "def supprimer_caracteres(s):\n",
    "    s = s.replace(\":\",\"\")\n",
    "    s = s.replace(\",\",\"\")\n",
    "    s = s.replace(\";\",\"\")\n",
    "    s = s.replace(\"'\",\" \")\n",
    "    s = s.replace(\".\",\"\")\n",
    "    s = s.replace(\"!\",\"\")\n",
    "    s = s.replace(\"?\",\"\")\n",
    "    s = s.replace(\"à\",\"a\")\n",
    "    s = s.replace(\"â\",\"a\")\n",
    "    s = s.replace(\"é\",\"e\")\n",
    "    s = s.replace(\"è\",\"e\")\n",
    "    s = s.replace(\"ê\",\"e\")\n",
    "    s = s.replace(\"ç\",\"c\")\n",
    "    s = s.replace(\"î\",\"i\")\n",
    "    s = s.replace(\"û\",\"u\")\n",
    "    s = s.replace(\"-\",\" \")\n",
    "    return s"
   ]
  },
  {
   "cell_type": "code",
   "execution_count": 43,
   "id": "2476a896",
   "metadata": {
    "ExecuteTime": {
     "end_time": "2023-02-13T19:43:36.674780Z",
     "start_time": "2023-02-13T19:42:41.797066Z"
    }
   },
   "outputs": [],
   "source": [
    "for i in list(new_bible.index):\n",
    "    new_bible.loc[i, 'textes'] = supprimer_caracteres(new_bible.loc[i, 'textes'])"
   ]
  },
  {
   "cell_type": "code",
   "execution_count": 44,
   "id": "5a42f328",
   "metadata": {
    "ExecuteTime": {
     "end_time": "2023-02-13T19:43:39.388018Z",
     "start_time": "2023-02-13T19:43:39.369544Z"
    }
   },
   "outputs": [
    {
     "data": {
      "text/html": [
       "<div>\n",
       "<style scoped>\n",
       "    .dataframe tbody tr th:only-of-type {\n",
       "        vertical-align: middle;\n",
       "    }\n",
       "\n",
       "    .dataframe tbody tr th {\n",
       "        vertical-align: top;\n",
       "    }\n",
       "\n",
       "    .dataframe thead th {\n",
       "        text-align: right;\n",
       "    }\n",
       "</style>\n",
       "<table border=\"1\" class=\"dataframe\">\n",
       "  <thead>\n",
       "    <tr style=\"text-align: right;\">\n",
       "      <th></th>\n",
       "      <th>livres</th>\n",
       "      <th>chapitres</th>\n",
       "      <th>versets</th>\n",
       "      <th>textes</th>\n",
       "    </tr>\n",
       "  </thead>\n",
       "  <tbody>\n",
       "    <tr>\n",
       "      <th>0</th>\n",
       "      <td>1</td>\n",
       "      <td>1</td>\n",
       "      <td>1</td>\n",
       "      <td>Au commencement Dieu crea les cieux et la terre</td>\n",
       "    </tr>\n",
       "    <tr>\n",
       "      <th>1</th>\n",
       "      <td>1</td>\n",
       "      <td>1</td>\n",
       "      <td>2</td>\n",
       "      <td>La terre etait informe et vide il y avait des ...</td>\n",
       "    </tr>\n",
       "    <tr>\n",
       "      <th>2</th>\n",
       "      <td>1</td>\n",
       "      <td>1</td>\n",
       "      <td>3</td>\n",
       "      <td>Dieu dit Que la lumiere soit Et la lumiere fut</td>\n",
       "    </tr>\n",
       "    <tr>\n",
       "      <th>3</th>\n",
       "      <td>1</td>\n",
       "      <td>1</td>\n",
       "      <td>4</td>\n",
       "      <td>Dieu vit que la lumiere etait bonne et Dieu se...</td>\n",
       "    </tr>\n",
       "    <tr>\n",
       "      <th>4</th>\n",
       "      <td>1</td>\n",
       "      <td>1</td>\n",
       "      <td>5</td>\n",
       "      <td>Dieu appela la lumiere jour et il appela les t...</td>\n",
       "    </tr>\n",
       "  </tbody>\n",
       "</table>\n",
       "</div>"
      ],
      "text/plain": [
       "   livres  chapitres  versets  \\\n",
       "0       1          1        1   \n",
       "1       1          1        2   \n",
       "2       1          1        3   \n",
       "3       1          1        4   \n",
       "4       1          1        5   \n",
       "\n",
       "                                              textes  \n",
       "0    Au commencement Dieu crea les cieux et la terre  \n",
       "1  La terre etait informe et vide il y avait des ...  \n",
       "2     Dieu dit Que la lumiere soit Et la lumiere fut  \n",
       "3  Dieu vit que la lumiere etait bonne et Dieu se...  \n",
       "4  Dieu appela la lumiere jour et il appela les t...  "
      ]
     },
     "execution_count": 44,
     "metadata": {},
     "output_type": "execute_result"
    }
   ],
   "source": [
    "new_bible.head()"
   ]
  },
  {
   "cell_type": "code",
   "execution_count": 45,
   "id": "9abe2c7b",
   "metadata": {
    "ExecuteTime": {
     "end_time": "2023-02-13T19:43:43.829997Z",
     "start_time": "2023-02-13T19:43:43.814062Z"
    }
   },
   "outputs": [],
   "source": [
    "livr = {}\n",
    "k = 1\n",
    "\n",
    "with open('fichiers_bibles/lives_bible.txt','r') as f:\n",
    "    for line in f:\n",
    "        livr[k] = line.rstrip('\\n')\n",
    "        k = k + 1\n",
    "        "
   ]
  },
  {
   "cell_type": "code",
   "execution_count": 46,
   "id": "e041251f",
   "metadata": {
    "ExecuteTime": {
     "end_time": "2023-02-13T19:43:44.821494Z",
     "start_time": "2023-02-13T19:43:44.809973Z"
    }
   },
   "outputs": [],
   "source": [
    "new_bible.livres = new_bible.livres.map(livr)"
   ]
  },
  {
   "cell_type": "code",
   "execution_count": 47,
   "id": "1a6d9336",
   "metadata": {
    "ExecuteTime": {
     "end_time": "2023-02-13T19:43:46.664607Z",
     "start_time": "2023-02-13T19:43:46.612448Z"
    }
   },
   "outputs": [
    {
     "data": {
      "text/html": [
       "<div>\n",
       "<style scoped>\n",
       "    .dataframe tbody tr th:only-of-type {\n",
       "        vertical-align: middle;\n",
       "    }\n",
       "\n",
       "    .dataframe tbody tr th {\n",
       "        vertical-align: top;\n",
       "    }\n",
       "\n",
       "    .dataframe thead th {\n",
       "        text-align: right;\n",
       "    }\n",
       "</style>\n",
       "<table border=\"1\" class=\"dataframe\">\n",
       "  <thead>\n",
       "    <tr style=\"text-align: right;\">\n",
       "      <th></th>\n",
       "      <th>livres</th>\n",
       "      <th>chapitres</th>\n",
       "      <th>versets</th>\n",
       "      <th>textes</th>\n",
       "    </tr>\n",
       "  </thead>\n",
       "  <tbody>\n",
       "    <tr>\n",
       "      <th>31097</th>\n",
       "      <td>Apocalypse</td>\n",
       "      <td>22</td>\n",
       "      <td>17</td>\n",
       "      <td>Et l Esprit et l epouse disent Viens Et que ce...</td>\n",
       "    </tr>\n",
       "    <tr>\n",
       "      <th>31098</th>\n",
       "      <td>Apocalypse</td>\n",
       "      <td>22</td>\n",
       "      <td>18</td>\n",
       "      <td>Je le declare a quiconque entend les paroles d...</td>\n",
       "    </tr>\n",
       "    <tr>\n",
       "      <th>31099</th>\n",
       "      <td>Apocalypse</td>\n",
       "      <td>22</td>\n",
       "      <td>19</td>\n",
       "      <td>et si quelqu un retranche quelque chose des pa...</td>\n",
       "    </tr>\n",
       "    <tr>\n",
       "      <th>31100</th>\n",
       "      <td>Apocalypse</td>\n",
       "      <td>22</td>\n",
       "      <td>20</td>\n",
       "      <td>Celui qui atteste ces choses dit Oui je viens ...</td>\n",
       "    </tr>\n",
       "    <tr>\n",
       "      <th>31101</th>\n",
       "      <td>Apocalypse</td>\n",
       "      <td>22</td>\n",
       "      <td>21</td>\n",
       "      <td>Que la grace du Seigneur Jesus soit avec tous</td>\n",
       "    </tr>\n",
       "  </tbody>\n",
       "</table>\n",
       "</div>"
      ],
      "text/plain": [
       "           livres  chapitres  versets  \\\n",
       "31097  Apocalypse         22       17   \n",
       "31098  Apocalypse         22       18   \n",
       "31099  Apocalypse         22       19   \n",
       "31100  Apocalypse         22       20   \n",
       "31101  Apocalypse         22       21   \n",
       "\n",
       "                                                  textes  \n",
       "31097  Et l Esprit et l epouse disent Viens Et que ce...  \n",
       "31098  Je le declare a quiconque entend les paroles d...  \n",
       "31099  et si quelqu un retranche quelque chose des pa...  \n",
       "31100  Celui qui atteste ces choses dit Oui je viens ...  \n",
       "31101      Que la grace du Seigneur Jesus soit avec tous  "
      ]
     },
     "execution_count": 47,
     "metadata": {},
     "output_type": "execute_result"
    }
   ],
   "source": [
    "new_bible.tail()"
   ]
  },
  {
   "cell_type": "code",
   "execution_count": 48,
   "id": "b6070eff",
   "metadata": {
    "ExecuteTime": {
     "end_time": "2023-02-13T19:43:53.379212Z",
     "start_time": "2023-02-13T19:43:53.224911Z"
    }
   },
   "outputs": [],
   "source": [
    "new_bible.to_csv(\"fichiers_bibles/bible_louis_segond.csv\", sep=\",\", index=False)"
   ]
  },
  {
   "cell_type": "code",
   "execution_count": null,
   "id": "d0ef0a20",
   "metadata": {},
   "outputs": [],
   "source": []
  },
  {
   "cell_type": "code",
   "execution_count": 55,
   "id": "e91183c4",
   "metadata": {
    "ExecuteTime": {
     "end_time": "2023-02-13T20:14:43.394166Z",
     "start_time": "2023-02-13T20:14:43.363163Z"
    }
   },
   "outputs": [
    {
     "data": {
      "text/html": [
       "<div>\n",
       "<style scoped>\n",
       "    .dataframe tbody tr th:only-of-type {\n",
       "        vertical-align: middle;\n",
       "    }\n",
       "\n",
       "    .dataframe tbody tr th {\n",
       "        vertical-align: top;\n",
       "    }\n",
       "\n",
       "    .dataframe thead th {\n",
       "        text-align: right;\n",
       "    }\n",
       "</style>\n",
       "<table border=\"1\" class=\"dataframe\">\n",
       "  <thead>\n",
       "    <tr style=\"text-align: right;\">\n",
       "      <th></th>\n",
       "      <th>livres</th>\n",
       "      <th>chapitres</th>\n",
       "      <th>versets</th>\n",
       "      <th>textes</th>\n",
       "    </tr>\n",
       "  </thead>\n",
       "  <tbody>\n",
       "    <tr>\n",
       "      <th>23145</th>\n",
       "      <td>Matthieu</td>\n",
       "      <td>1</td>\n",
       "      <td>1</td>\n",
       "      <td>Genealogie de Jesus Christ fils de David fils ...</td>\n",
       "    </tr>\n",
       "    <tr>\n",
       "      <th>23146</th>\n",
       "      <td>Matthieu</td>\n",
       "      <td>1</td>\n",
       "      <td>2</td>\n",
       "      <td>Abraham engendra Isaac Isaac engendra Jacob Ja...</td>\n",
       "    </tr>\n",
       "    <tr>\n",
       "      <th>23147</th>\n",
       "      <td>Matthieu</td>\n",
       "      <td>1</td>\n",
       "      <td>3</td>\n",
       "      <td>Juda engendra de Thamar Phares et Zara Phares ...</td>\n",
       "    </tr>\n",
       "    <tr>\n",
       "      <th>23148</th>\n",
       "      <td>Matthieu</td>\n",
       "      <td>1</td>\n",
       "      <td>4</td>\n",
       "      <td>Aram engendra Aminadab Aminadab engendra Naass...</td>\n",
       "    </tr>\n",
       "    <tr>\n",
       "      <th>23149</th>\n",
       "      <td>Matthieu</td>\n",
       "      <td>1</td>\n",
       "      <td>5</td>\n",
       "      <td>Salmon engendra Boaz de Rahab Boaz engendra Ob...</td>\n",
       "    </tr>\n",
       "    <tr>\n",
       "      <th>...</th>\n",
       "      <td>...</td>\n",
       "      <td>...</td>\n",
       "      <td>...</td>\n",
       "      <td>...</td>\n",
       "    </tr>\n",
       "    <tr>\n",
       "      <th>24211</th>\n",
       "      <td>Matthieu</td>\n",
       "      <td>28</td>\n",
       "      <td>16</td>\n",
       "      <td>Les onze disciples allerent en Galilee sur la ...</td>\n",
       "    </tr>\n",
       "    <tr>\n",
       "      <th>24212</th>\n",
       "      <td>Matthieu</td>\n",
       "      <td>28</td>\n",
       "      <td>17</td>\n",
       "      <td>Quand ils le virent ils se prosternerent devan...</td>\n",
       "    </tr>\n",
       "    <tr>\n",
       "      <th>24213</th>\n",
       "      <td>Matthieu</td>\n",
       "      <td>28</td>\n",
       "      <td>18</td>\n",
       "      <td>Jesus s etant approche leur parla ainsi Tout p...</td>\n",
       "    </tr>\n",
       "    <tr>\n",
       "      <th>24214</th>\n",
       "      <td>Matthieu</td>\n",
       "      <td>28</td>\n",
       "      <td>19</td>\n",
       "      <td>Allez faites de toutes les nations des discipl...</td>\n",
       "    </tr>\n",
       "    <tr>\n",
       "      <th>24215</th>\n",
       "      <td>Matthieu</td>\n",
       "      <td>28</td>\n",
       "      <td>20</td>\n",
       "      <td>et enseignez leur a observer tout ce que je vo...</td>\n",
       "    </tr>\n",
       "  </tbody>\n",
       "</table>\n",
       "<p>1071 rows × 4 columns</p>\n",
       "</div>"
      ],
      "text/plain": [
       "         livres  chapitres  versets  \\\n",
       "23145  Matthieu          1        1   \n",
       "23146  Matthieu          1        2   \n",
       "23147  Matthieu          1        3   \n",
       "23148  Matthieu          1        4   \n",
       "23149  Matthieu          1        5   \n",
       "...         ...        ...      ...   \n",
       "24211  Matthieu         28       16   \n",
       "24212  Matthieu         28       17   \n",
       "24213  Matthieu         28       18   \n",
       "24214  Matthieu         28       19   \n",
       "24215  Matthieu         28       20   \n",
       "\n",
       "                                                  textes  \n",
       "23145  Genealogie de Jesus Christ fils de David fils ...  \n",
       "23146  Abraham engendra Isaac Isaac engendra Jacob Ja...  \n",
       "23147  Juda engendra de Thamar Phares et Zara Phares ...  \n",
       "23148  Aram engendra Aminadab Aminadab engendra Naass...  \n",
       "23149  Salmon engendra Boaz de Rahab Boaz engendra Ob...  \n",
       "...                                                  ...  \n",
       "24211  Les onze disciples allerent en Galilee sur la ...  \n",
       "24212  Quand ils le virent ils se prosternerent devan...  \n",
       "24213  Jesus s etant approche leur parla ainsi Tout p...  \n",
       "24214  Allez faites de toutes les nations des discipl...  \n",
       "24215  et enseignez leur a observer tout ce que je vo...  \n",
       "\n",
       "[1071 rows x 4 columns]"
      ]
     },
     "execution_count": 55,
     "metadata": {},
     "output_type": "execute_result"
    }
   ],
   "source": [
    "new_bible[new_bible[\"livres\"]==\"Matthieu\"]"
   ]
  },
  {
   "cell_type": "code",
   "execution_count": 56,
   "id": "65cc3eb5",
   "metadata": {
    "ExecuteTime": {
     "end_time": "2023-02-13T20:15:00.222321Z",
     "start_time": "2023-02-13T20:15:00.211577Z"
    }
   },
   "outputs": [],
   "source": [
    "nouveau_test = new_bible.loc[23145:,:]"
   ]
  },
  {
   "cell_type": "code",
   "execution_count": 57,
   "id": "a91526e1",
   "metadata": {
    "ExecuteTime": {
     "end_time": "2023-02-13T20:15:03.209645Z",
     "start_time": "2023-02-13T20:15:03.187911Z"
    }
   },
   "outputs": [
    {
     "data": {
      "text/html": [
       "<div>\n",
       "<style scoped>\n",
       "    .dataframe tbody tr th:only-of-type {\n",
       "        vertical-align: middle;\n",
       "    }\n",
       "\n",
       "    .dataframe tbody tr th {\n",
       "        vertical-align: top;\n",
       "    }\n",
       "\n",
       "    .dataframe thead th {\n",
       "        text-align: right;\n",
       "    }\n",
       "</style>\n",
       "<table border=\"1\" class=\"dataframe\">\n",
       "  <thead>\n",
       "    <tr style=\"text-align: right;\">\n",
       "      <th></th>\n",
       "      <th>livres</th>\n",
       "      <th>chapitres</th>\n",
       "      <th>versets</th>\n",
       "      <th>textes</th>\n",
       "    </tr>\n",
       "  </thead>\n",
       "  <tbody>\n",
       "    <tr>\n",
       "      <th>23145</th>\n",
       "      <td>Matthieu</td>\n",
       "      <td>1</td>\n",
       "      <td>1</td>\n",
       "      <td>Genealogie de Jesus Christ fils de David fils ...</td>\n",
       "    </tr>\n",
       "    <tr>\n",
       "      <th>23146</th>\n",
       "      <td>Matthieu</td>\n",
       "      <td>1</td>\n",
       "      <td>2</td>\n",
       "      <td>Abraham engendra Isaac Isaac engendra Jacob Ja...</td>\n",
       "    </tr>\n",
       "    <tr>\n",
       "      <th>23147</th>\n",
       "      <td>Matthieu</td>\n",
       "      <td>1</td>\n",
       "      <td>3</td>\n",
       "      <td>Juda engendra de Thamar Phares et Zara Phares ...</td>\n",
       "    </tr>\n",
       "    <tr>\n",
       "      <th>23148</th>\n",
       "      <td>Matthieu</td>\n",
       "      <td>1</td>\n",
       "      <td>4</td>\n",
       "      <td>Aram engendra Aminadab Aminadab engendra Naass...</td>\n",
       "    </tr>\n",
       "    <tr>\n",
       "      <th>23149</th>\n",
       "      <td>Matthieu</td>\n",
       "      <td>1</td>\n",
       "      <td>5</td>\n",
       "      <td>Salmon engendra Boaz de Rahab Boaz engendra Ob...</td>\n",
       "    </tr>\n",
       "  </tbody>\n",
       "</table>\n",
       "</div>"
      ],
      "text/plain": [
       "         livres  chapitres  versets  \\\n",
       "23145  Matthieu          1        1   \n",
       "23146  Matthieu          1        2   \n",
       "23147  Matthieu          1        3   \n",
       "23148  Matthieu          1        4   \n",
       "23149  Matthieu          1        5   \n",
       "\n",
       "                                                  textes  \n",
       "23145  Genealogie de Jesus Christ fils de David fils ...  \n",
       "23146  Abraham engendra Isaac Isaac engendra Jacob Ja...  \n",
       "23147  Juda engendra de Thamar Phares et Zara Phares ...  \n",
       "23148  Aram engendra Aminadab Aminadab engendra Naass...  \n",
       "23149  Salmon engendra Boaz de Rahab Boaz engendra Ob...  "
      ]
     },
     "execution_count": 57,
     "metadata": {},
     "output_type": "execute_result"
    }
   ],
   "source": [
    "nouveau_test.head()"
   ]
  },
  {
   "cell_type": "code",
   "execution_count": 58,
   "id": "0366a188",
   "metadata": {
    "ExecuteTime": {
     "end_time": "2023-02-13T20:15:44.826804Z",
     "start_time": "2023-02-13T20:15:44.772706Z"
    }
   },
   "outputs": [],
   "source": [
    "nouveau_test.to_csv(\"fichiers_bibles/nouveau_testament_louis_segond.csv\", sep=\",\", index=False)"
   ]
  },
  {
   "cell_type": "code",
   "execution_count": null,
   "id": "00b7f67c",
   "metadata": {},
   "outputs": [],
   "source": []
  },
  {
   "cell_type": "code",
   "execution_count": null,
   "id": "ceb28ba8",
   "metadata": {},
   "outputs": [],
   "source": []
  },
  {
   "cell_type": "code",
   "execution_count": null,
   "id": "11c7aae8",
   "metadata": {},
   "outputs": [],
   "source": []
  },
  {
   "cell_type": "code",
   "execution_count": null,
   "id": "4adf9cc9",
   "metadata": {},
   "outputs": [],
   "source": []
  },
  {
   "cell_type": "code",
   "execution_count": null,
   "id": "ddf05669",
   "metadata": {},
   "outputs": [],
   "source": []
  },
  {
   "cell_type": "code",
   "execution_count": null,
   "id": "38f1e2f3",
   "metadata": {},
   "outputs": [],
   "source": []
  },
  {
   "cell_type": "code",
   "execution_count": null,
   "id": "6fca5d33",
   "metadata": {},
   "outputs": [],
   "source": []
  },
  {
   "cell_type": "code",
   "execution_count": null,
   "id": "ecb57393",
   "metadata": {},
   "outputs": [],
   "source": []
  },
  {
   "cell_type": "code",
   "execution_count": null,
   "id": "18b11e93",
   "metadata": {},
   "outputs": [],
   "source": []
  }
 ],
 "metadata": {
  "kernelspec": {
   "display_name": "Python 3 (ipykernel)",
   "language": "python",
   "name": "python3"
  },
  "language_info": {
   "codemirror_mode": {
    "name": "ipython",
    "version": 3
   },
   "file_extension": ".py",
   "mimetype": "text/x-python",
   "name": "python",
   "nbconvert_exporter": "python",
   "pygments_lexer": "ipython3",
   "version": "3.8.10"
  }
 },
 "nbformat": 4,
 "nbformat_minor": 5
}
